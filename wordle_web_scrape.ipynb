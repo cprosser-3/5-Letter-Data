{
 "cells": [
  {
   "cell_type": "code",
   "execution_count": null,
   "metadata": {},
   "outputs": [],
   "source": [
    "import re\n",
    "\n",
    "import pandas as pd\n",
    "\n",
    "from selenium import webdriver\n",
    "from selenium.webdriver.common.by import By"
   ]
  },
  {
   "cell_type": "code",
   "execution_count": null,
   "metadata": {},
   "outputs": [],
   "source": [
    "driver = webdriver.Chrome('D:/Chromium/chromedriver.exe')\n",
    "\n",
    "driver.get('https://eslforums.com/5-letter-words/')\n",
    "words = driver.find_elements(By.TAG_NAME, 'li')\n",
    "\n",
    "DF_WORDS = pd.DataFrame(\n",
    "      [[w[0], w[1], w[2], w[3], w[4]] for w in map(lambda x: x.text, words) if re.match(r'^[a-z]{5}$', w)]\n",
    "    , columns = ['1', '2', '3', '4', '5']\n",
    ")\n",
    "\n",
    "driver.quit()\n",
    "\n",
    "DF_WORDS.shape"
   ]
  },
  {
   "cell_type": "code",
   "execution_count": null,
   "metadata": {},
   "outputs": [],
   "source": [
    "DF_WORDS.head()"
   ]
  },
  {
   "cell_type": "code",
   "execution_count": null,
   "metadata": {},
   "outputs": [],
   "source": [
    "DF_WORDS.to_csv('D:/_DataSci/Projects/Wordle/5_letters.csv', index = False)"
   ]
  }
 ],
 "metadata": {
  "interpreter": {
   "hash": "9e471fe333538c2a6d99f7f815d507d1362fad0919fe3432a625bf206fc5ef75"
  },
  "kernelspec": {
   "display_name": "Python 3.9.9 64-bit ('google_cloud': conda)",
   "language": "python",
   "name": "python3"
  },
  "language_info": {
   "codemirror_mode": {
    "name": "ipython",
    "version": 3
   },
   "file_extension": ".py",
   "mimetype": "text/x-python",
   "name": "python",
   "nbconvert_exporter": "python",
   "pygments_lexer": "ipython3",
   "version": "3.9.9"
  },
  "orig_nbformat": 4
 },
 "nbformat": 4,
 "nbformat_minor": 2
}
